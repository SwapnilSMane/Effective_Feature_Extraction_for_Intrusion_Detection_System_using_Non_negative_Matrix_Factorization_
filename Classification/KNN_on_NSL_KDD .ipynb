{
 "cells": [
  {
   "cell_type": "code",
   "execution_count": 1,
   "metadata": {},
   "outputs": [],
   "source": [
    "import numpy as np \n",
    "import pandas as pd\n",
    "import matplotlib.pyplot as plt\n",
    "import seaborn as sns\n",
    "\n",
    "%matplotlib inline"
   ]
  },
  {
   "cell_type": "code",
   "execution_count": 2,
   "metadata": {},
   "outputs": [],
   "source": [
    "df = pd.read_csv('../Featre Engineering/New_KDDTrain+.txt')"
   ]
  },
  {
   "cell_type": "code",
   "execution_count": 11,
   "metadata": {},
   "outputs": [
    {
     "data": {
      "text/html": [
       "<div>\n",
       "<style scoped>\n",
       "    .dataframe tbody tr th:only-of-type {\n",
       "        vertical-align: middle;\n",
       "    }\n",
       "\n",
       "    .dataframe tbody tr th {\n",
       "        vertical-align: top;\n",
       "    }\n",
       "\n",
       "    .dataframe thead th {\n",
       "        text-align: right;\n",
       "    }\n",
       "</style>\n",
       "<table border=\"1\" class=\"dataframe\">\n",
       "  <thead>\n",
       "    <tr style=\"text-align: right;\">\n",
       "      <th></th>\n",
       "      <th>count</th>\n",
       "      <th>srv_count</th>\n",
       "      <th>rerror_rate</th>\n",
       "      <th>srv_rerror_rate</th>\n",
       "      <th>same_srv_rate</th>\n",
       "      <th>diff_srv_rate</th>\n",
       "      <th>dst_host_count</th>\n",
       "      <th>dst_host_srv_count</th>\n",
       "      <th>dst_host_same_srv_rate</th>\n",
       "      <th>dst_host_diff_srv_rate</th>\n",
       "      <th>dst_host_same_src_port_rate</th>\n",
       "      <th>dst_host_rerror_rate</th>\n",
       "      <th>dst_host_srv_rerror_rate</th>\n",
       "      <th>labels</th>\n",
       "    </tr>\n",
       "  </thead>\n",
       "  <tbody>\n",
       "    <tr>\n",
       "      <td>0</td>\n",
       "      <td>2</td>\n",
       "      <td>2</td>\n",
       "      <td>0.0</td>\n",
       "      <td>0.0</td>\n",
       "      <td>1.00</td>\n",
       "      <td>0.00</td>\n",
       "      <td>150</td>\n",
       "      <td>25</td>\n",
       "      <td>0.17</td>\n",
       "      <td>0.03</td>\n",
       "      <td>0.17</td>\n",
       "      <td>0.05</td>\n",
       "      <td>0.00</td>\n",
       "      <td>11</td>\n",
       "    </tr>\n",
       "    <tr>\n",
       "      <td>1</td>\n",
       "      <td>13</td>\n",
       "      <td>1</td>\n",
       "      <td>0.0</td>\n",
       "      <td>0.0</td>\n",
       "      <td>0.08</td>\n",
       "      <td>0.15</td>\n",
       "      <td>255</td>\n",
       "      <td>1</td>\n",
       "      <td>0.00</td>\n",
       "      <td>0.60</td>\n",
       "      <td>0.88</td>\n",
       "      <td>0.00</td>\n",
       "      <td>0.00</td>\n",
       "      <td>11</td>\n",
       "    </tr>\n",
       "    <tr>\n",
       "      <td>2</td>\n",
       "      <td>123</td>\n",
       "      <td>6</td>\n",
       "      <td>0.0</td>\n",
       "      <td>0.0</td>\n",
       "      <td>0.05</td>\n",
       "      <td>0.07</td>\n",
       "      <td>255</td>\n",
       "      <td>26</td>\n",
       "      <td>0.10</td>\n",
       "      <td>0.05</td>\n",
       "      <td>0.00</td>\n",
       "      <td>0.00</td>\n",
       "      <td>0.00</td>\n",
       "      <td>9</td>\n",
       "    </tr>\n",
       "    <tr>\n",
       "      <td>3</td>\n",
       "      <td>5</td>\n",
       "      <td>5</td>\n",
       "      <td>0.0</td>\n",
       "      <td>0.0</td>\n",
       "      <td>1.00</td>\n",
       "      <td>0.00</td>\n",
       "      <td>30</td>\n",
       "      <td>255</td>\n",
       "      <td>1.00</td>\n",
       "      <td>0.00</td>\n",
       "      <td>0.03</td>\n",
       "      <td>0.00</td>\n",
       "      <td>0.01</td>\n",
       "      <td>11</td>\n",
       "    </tr>\n",
       "    <tr>\n",
       "      <td>4</td>\n",
       "      <td>30</td>\n",
       "      <td>32</td>\n",
       "      <td>0.0</td>\n",
       "      <td>0.0</td>\n",
       "      <td>1.00</td>\n",
       "      <td>0.00</td>\n",
       "      <td>255</td>\n",
       "      <td>255</td>\n",
       "      <td>1.00</td>\n",
       "      <td>0.00</td>\n",
       "      <td>0.00</td>\n",
       "      <td>0.00</td>\n",
       "      <td>0.00</td>\n",
       "      <td>11</td>\n",
       "    </tr>\n",
       "  </tbody>\n",
       "</table>\n",
       "</div>"
      ],
      "text/plain": [
       "   count  srv_count  rerror_rate  srv_rerror_rate  same_srv_rate  \\\n",
       "0      2          2          0.0              0.0           1.00   \n",
       "1     13          1          0.0              0.0           0.08   \n",
       "2    123          6          0.0              0.0           0.05   \n",
       "3      5          5          0.0              0.0           1.00   \n",
       "4     30         32          0.0              0.0           1.00   \n",
       "\n",
       "   diff_srv_rate  dst_host_count  dst_host_srv_count  dst_host_same_srv_rate  \\\n",
       "0           0.00             150                  25                    0.17   \n",
       "1           0.15             255                   1                    0.00   \n",
       "2           0.07             255                  26                    0.10   \n",
       "3           0.00              30                 255                    1.00   \n",
       "4           0.00             255                 255                    1.00   \n",
       "\n",
       "   dst_host_diff_srv_rate  dst_host_same_src_port_rate  dst_host_rerror_rate  \\\n",
       "0                    0.03                         0.17                  0.05   \n",
       "1                    0.60                         0.88                  0.00   \n",
       "2                    0.05                         0.00                  0.00   \n",
       "3                    0.00                         0.03                  0.00   \n",
       "4                    0.00                         0.00                  0.00   \n",
       "\n",
       "   dst_host_srv_rerror_rate  labels  \n",
       "0                      0.00      11  \n",
       "1                      0.00      11  \n",
       "2                      0.00       9  \n",
       "3                      0.01      11  \n",
       "4                      0.00      11  "
      ]
     },
     "execution_count": 11,
     "metadata": {},
     "output_type": "execute_result"
    }
   ],
   "source": [
    "df.head()"
   ]
  },
  {
   "cell_type": "code",
   "execution_count": 4,
   "metadata": {},
   "outputs": [
    {
     "name": "stdout",
     "output_type": "stream",
     "text": [
      "<class 'pandas.core.frame.DataFrame'>\n",
      "RangeIndex: 125973 entries, 0 to 125972\n",
      "Data columns (total 14 columns):\n",
      "count                          125973 non-null int64\n",
      "srv_count                      125973 non-null int64\n",
      "rerror_rate                    125973 non-null float64\n",
      "srv_rerror_rate                125973 non-null float64\n",
      "same_srv_rate                  125973 non-null float64\n",
      "diff_srv_rate                  125973 non-null float64\n",
      "dst_host_count                 125973 non-null int64\n",
      "dst_host_srv_count             125973 non-null int64\n",
      "dst_host_same_srv_rate         125973 non-null float64\n",
      "dst_host_diff_srv_rate         125973 non-null float64\n",
      "dst_host_same_src_port_rate    125973 non-null float64\n",
      "dst_host_rerror_rate           125973 non-null float64\n",
      "dst_host_srv_rerror_rate       125973 non-null float64\n",
      "labels                         125973 non-null int64\n",
      "dtypes: float64(9), int64(5)\n",
      "memory usage: 13.5 MB\n"
     ]
    }
   ],
   "source": [
    "df.info()"
   ]
  },
  {
   "cell_type": "code",
   "execution_count": 5,
   "metadata": {},
   "outputs": [],
   "source": [
    "from sklearn.model_selection import train_test_split"
   ]
  },
  {
   "cell_type": "code",
   "execution_count": 6,
   "metadata": {},
   "outputs": [],
   "source": [
    "X = df.drop('labels',axis=1)\n",
    "y = df['labels']"
   ]
  },
  {
   "cell_type": "code",
   "execution_count": 12,
   "metadata": {},
   "outputs": [],
   "source": [
    "from sklearn.preprocessing import StandardScaler"
   ]
  },
  {
   "cell_type": "code",
   "execution_count": 14,
   "metadata": {},
   "outputs": [
    {
     "data": {
      "text/html": [
       "<div>\n",
       "<style scoped>\n",
       "    .dataframe tbody tr th:only-of-type {\n",
       "        vertical-align: middle;\n",
       "    }\n",
       "\n",
       "    .dataframe tbody tr th {\n",
       "        vertical-align: top;\n",
       "    }\n",
       "\n",
       "    .dataframe thead th {\n",
       "        text-align: right;\n",
       "    }\n",
       "</style>\n",
       "<table border=\"1\" class=\"dataframe\">\n",
       "  <thead>\n",
       "    <tr style=\"text-align: right;\">\n",
       "      <th></th>\n",
       "      <th>count</th>\n",
       "      <th>srv_count</th>\n",
       "      <th>rerror_rate</th>\n",
       "      <th>srv_rerror_rate</th>\n",
       "      <th>same_srv_rate</th>\n",
       "      <th>diff_srv_rate</th>\n",
       "      <th>dst_host_count</th>\n",
       "      <th>dst_host_srv_count</th>\n",
       "      <th>dst_host_same_srv_rate</th>\n",
       "      <th>dst_host_diff_srv_rate</th>\n",
       "      <th>dst_host_same_src_port_rate</th>\n",
       "      <th>dst_host_rerror_rate</th>\n",
       "      <th>dst_host_srv_rerror_rate</th>\n",
       "    </tr>\n",
       "  </thead>\n",
       "  <tbody>\n",
       "    <tr>\n",
       "      <td>0</td>\n",
       "      <td>-0.717045</td>\n",
       "      <td>-0.354343</td>\n",
       "      <td>-0.374362</td>\n",
       "      <td>-0.374432</td>\n",
       "      <td>0.771283</td>\n",
       "      <td>-0.349683</td>\n",
       "      <td>-0.324063</td>\n",
       "      <td>-0.818890</td>\n",
       "      <td>-0.782367</td>\n",
       "      <td>-0.280282</td>\n",
       "      <td>0.069972</td>\n",
       "      <td>-0.224532</td>\n",
       "      <td>-0.376387</td>\n",
       "    </tr>\n",
       "    <tr>\n",
       "      <td>1</td>\n",
       "      <td>-0.620982</td>\n",
       "      <td>-0.368110</td>\n",
       "      <td>-0.374362</td>\n",
       "      <td>-0.374432</td>\n",
       "      <td>-1.321428</td>\n",
       "      <td>0.482201</td>\n",
       "      <td>0.734343</td>\n",
       "      <td>-1.035688</td>\n",
       "      <td>-1.161030</td>\n",
       "      <td>2.736852</td>\n",
       "      <td>2.367737</td>\n",
       "      <td>-0.387635</td>\n",
       "      <td>-0.376387</td>\n",
       "    </tr>\n",
       "    <tr>\n",
       "      <td>2</td>\n",
       "      <td>0.339648</td>\n",
       "      <td>-0.299273</td>\n",
       "      <td>-0.374362</td>\n",
       "      <td>-0.374432</td>\n",
       "      <td>-1.389669</td>\n",
       "      <td>0.038529</td>\n",
       "      <td>0.734343</td>\n",
       "      <td>-0.809857</td>\n",
       "      <td>-0.938287</td>\n",
       "      <td>-0.174417</td>\n",
       "      <td>-0.480197</td>\n",
       "      <td>-0.387635</td>\n",
       "      <td>-0.376387</td>\n",
       "    </tr>\n",
       "    <tr>\n",
       "      <td>3</td>\n",
       "      <td>-0.690846</td>\n",
       "      <td>-0.313041</td>\n",
       "      <td>-0.374362</td>\n",
       "      <td>-0.374432</td>\n",
       "      <td>0.771283</td>\n",
       "      <td>-0.349683</td>\n",
       "      <td>-1.533670</td>\n",
       "      <td>1.258754</td>\n",
       "      <td>1.066401</td>\n",
       "      <td>-0.439078</td>\n",
       "      <td>-0.383108</td>\n",
       "      <td>-0.387635</td>\n",
       "      <td>-0.345084</td>\n",
       "    </tr>\n",
       "    <tr>\n",
       "      <td>4</td>\n",
       "      <td>-0.472521</td>\n",
       "      <td>0.058678</td>\n",
       "      <td>-0.374362</td>\n",
       "      <td>-0.374432</td>\n",
       "      <td>0.771283</td>\n",
       "      <td>-0.349683</td>\n",
       "      <td>0.734343</td>\n",
       "      <td>1.258754</td>\n",
       "      <td>1.066401</td>\n",
       "      <td>-0.439078</td>\n",
       "      <td>-0.480197</td>\n",
       "      <td>-0.387635</td>\n",
       "      <td>-0.376387</td>\n",
       "    </tr>\n",
       "  </tbody>\n",
       "</table>\n",
       "</div>"
      ],
      "text/plain": [
       "      count  srv_count  rerror_rate  srv_rerror_rate  same_srv_rate  \\\n",
       "0 -0.717045  -0.354343    -0.374362        -0.374432       0.771283   \n",
       "1 -0.620982  -0.368110    -0.374362        -0.374432      -1.321428   \n",
       "2  0.339648  -0.299273    -0.374362        -0.374432      -1.389669   \n",
       "3 -0.690846  -0.313041    -0.374362        -0.374432       0.771283   \n",
       "4 -0.472521   0.058678    -0.374362        -0.374432       0.771283   \n",
       "\n",
       "   diff_srv_rate  dst_host_count  dst_host_srv_count  dst_host_same_srv_rate  \\\n",
       "0      -0.349683       -0.324063           -0.818890               -0.782367   \n",
       "1       0.482201        0.734343           -1.035688               -1.161030   \n",
       "2       0.038529        0.734343           -0.809857               -0.938287   \n",
       "3      -0.349683       -1.533670            1.258754                1.066401   \n",
       "4      -0.349683        0.734343            1.258754                1.066401   \n",
       "\n",
       "   dst_host_diff_srv_rate  dst_host_same_src_port_rate  dst_host_rerror_rate  \\\n",
       "0               -0.280282                     0.069972             -0.224532   \n",
       "1                2.736852                     2.367737             -0.387635   \n",
       "2               -0.174417                    -0.480197             -0.387635   \n",
       "3               -0.439078                    -0.383108             -0.387635   \n",
       "4               -0.439078                    -0.480197             -0.387635   \n",
       "\n",
       "   dst_host_srv_rerror_rate  \n",
       "0                 -0.376387  \n",
       "1                 -0.376387  \n",
       "2                 -0.376387  \n",
       "3                 -0.345084  \n",
       "4                 -0.376387  "
      ]
     },
     "execution_count": 14,
     "metadata": {},
     "output_type": "execute_result"
    }
   ],
   "source": [
    "standard_scaler = StandardScaler()\n",
    "Scaled_X = standard_scaler.fit_transform(X)\n",
    "X = pd.DataFrame(Scaled_X,columns=X.columns)\n",
    "X.head()"
   ]
  },
  {
   "cell_type": "code",
   "execution_count": 15,
   "metadata": {},
   "outputs": [],
   "source": [
    "X_train, X_test, y_train, y_test = train_test_split(X, y, test_size=0.33, random_state=42)"
   ]
  },
  {
   "cell_type": "code",
   "execution_count": 9,
   "metadata": {},
   "outputs": [],
   "source": [
    "from sklearn.neighbors import KNeighborsClassifier"
   ]
  },
  {
   "cell_type": "code",
   "execution_count": 16,
   "metadata": {},
   "outputs": [],
   "source": [
    "knn_model = KNeighborsClassifier()\n",
    "knn_model.fit(X_train,y_train)\n",
    "predicted_labels = knn_model.predict(X_test)"
   ]
  },
  {
   "cell_type": "code",
   "execution_count": 17,
   "metadata": {},
   "outputs": [],
   "source": [
    "from sklearn.metrics import classification_report,confusion_matrix,accuracy_score"
   ]
  },
  {
   "cell_type": "code",
   "execution_count": 18,
   "metadata": {},
   "outputs": [
    {
     "name": "stdout",
     "output_type": "stream",
     "text": [
      "              precision    recall  f1-score   support\n",
      "\n",
      "           0       0.90      0.91      0.90       310\n",
      "           1       0.33      0.09      0.14        11\n",
      "           2       0.00      0.00      0.00         3\n",
      "           3       0.89      0.81      0.85        21\n",
      "           4       1.00      0.80      0.89         5\n",
      "           5       0.81      0.87      0.84      1224\n",
      "           6       0.50      0.29      0.36         7\n",
      "           7       0.00      0.00      0.00         1\n",
      "           8       0.00      0.00      0.00         1\n",
      "           9       1.00      1.00      1.00     13577\n",
      "          10       0.76      0.67      0.71       512\n",
      "          11       0.99      0.99      0.99     22193\n",
      "          12       0.00      0.00      0.00         1\n",
      "          13       0.00      0.00      0.00         1\n",
      "          14       0.65      0.61      0.63        70\n",
      "          15       0.99      0.99      0.99       954\n",
      "          16       0.00      0.00      0.00         4\n",
      "          17       0.99      0.97      0.98      1206\n",
      "          18       0.90      0.93      0.91       861\n",
      "          19       0.00      0.00      0.00         1\n",
      "          20       0.90      0.91      0.90       284\n",
      "          21       0.73      0.72      0.72       317\n",
      "          22       0.00      0.00      0.00         8\n",
      "\n",
      "    accuracy                           0.98     41572\n",
      "   macro avg       0.54      0.50      0.51     41572\n",
      "weighted avg       0.98      0.98      0.98     41572\n",
      "\n",
      "\n",
      "\n",
      "0.9759934571346098\n"
     ]
    },
    {
     "name": "stderr",
     "output_type": "stream",
     "text": [
      "/root/anaconda3/lib/python3.7/site-packages/sklearn/metrics/_classification.py:1272: UndefinedMetricWarning: Precision and F-score are ill-defined and being set to 0.0 in labels with no predicted samples. Use `zero_division` parameter to control this behavior.\n",
      "  _warn_prf(average, modifier, msg_start, len(result))\n"
     ]
    }
   ],
   "source": [
    "print(classification_report(y_test,predicted_labels))\n",
    "print('\\n')\n",
    "print(accuracy_score(y_test,predicted_labels))"
   ]
  },
  {
   "cell_type": "code",
   "execution_count": 20,
   "metadata": {},
   "outputs": [],
   "source": [
    "err_rate = []\n",
    "for i in range(1,30):\n",
    "    knn_test = KNeighborsClassifier(n_neighbors=i)\n",
    "    knn_test.fit(X_train,y_train)\n",
    "    pred_i = knn_test.predict(X_test)\n",
    "    err_rate.append(np.mean(y_test != pred_i))"
   ]
  },
  {
   "cell_type": "code",
   "execution_count": 25,
   "metadata": {},
   "outputs": [
    {
     "data": {
      "text/plain": [
       "[<matplotlib.lines.Line2D at 0x7f64d01fd190>]"
      ]
     },
     "execution_count": 25,
     "metadata": {},
     "output_type": "execute_result"
    },
    {
     "data": {
      "image/png": "[encoded data removed]",
      "text/plain": [
       "<Figure size 864x432 with 1 Axes>"
      ]
     },
     "metadata": {
      "needs_background": "light"
     },
     "output_type": "display_data"
    }
   ],
   "source": [
    "plt.figure(figsize=(12,6))\n",
    "plt.plot(range(1,30),err_rate,color='green', marker='o', linestyle='dashed',linewidth=2, markersize=12,markerfacecolor='red')"
   ]
  },
  {
   "cell_type": "markdown",
   "metadata": {},
   "source": [
    "# so our assumed value of n_neighbors is true that 5 at that point error rate obtateind is too small"
   ]
  },
  {
   "cell_type": "code",
   "execution_count": null,
   "metadata": {},
   "outputs": [],
   "source": []
  }
 ],
 "metadata": {
  "kernelspec": {
   "display_name": "Python 3",
   "language": "python",
   "name": "python3"
  },
  "language_info": {
   "codemirror_mode": {
    "name": "ipython",
    "version": 3
   },
   "file_extension": ".py",
   "mimetype": "text/x-python",
   "name": "python",
   "nbconvert_exporter": "python",
   "pygments_lexer": "ipython3",
   "version": "3.7.4"
  }
 },
 "nbformat": 4,
 "nbformat_minor": 2
}
