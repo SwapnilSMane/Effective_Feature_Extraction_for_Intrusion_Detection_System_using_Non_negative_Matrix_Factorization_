{
 "cells": [
  {
   "cell_type": "code",
   "execution_count": 2,
   "metadata": {},
   "outputs": [],
   "source": [
    "import numpy as np \n",
    "import pandas as pd\n",
    "import matplotlib.pyplot as plt\n",
    "import seaborn as sns\n",
    "\n",
    "%matplotlib inline"
   ]
  },
  {
   "cell_type": "code",
   "execution_count": 3,
   "metadata": {},
   "outputs": [],
   "source": [
    "df = pd.read_csv('../Featre Engineering/New_KDDTrain+.txt')"
   ]
  },
  {
   "cell_type": "code",
   "execution_count": 4,
   "metadata": {},
   "outputs": [
    {
     "data": {
      "text/html": [
       "<div>\n",
       "<style scoped>\n",
       "    .dataframe tbody tr th:only-of-type {\n",
       "        vertical-align: middle;\n",
       "    }\n",
       "\n",
       "    .dataframe tbody tr th {\n",
       "        vertical-align: top;\n",
       "    }\n",
       "\n",
       "    .dataframe thead th {\n",
       "        text-align: right;\n",
       "    }\n",
       "</style>\n",
       "<table border=\"1\" class=\"dataframe\">\n",
       "  <thead>\n",
       "    <tr style=\"text-align: right;\">\n",
       "      <th></th>\n",
       "      <th>count</th>\n",
       "      <th>srv_count</th>\n",
       "      <th>rerror_rate</th>\n",
       "      <th>srv_rerror_rate</th>\n",
       "      <th>same_srv_rate</th>\n",
       "      <th>diff_srv_rate</th>\n",
       "      <th>dst_host_count</th>\n",
       "      <th>dst_host_srv_count</th>\n",
       "      <th>dst_host_same_srv_rate</th>\n",
       "      <th>dst_host_diff_srv_rate</th>\n",
       "      <th>dst_host_same_src_port_rate</th>\n",
       "      <th>dst_host_rerror_rate</th>\n",
       "      <th>dst_host_srv_rerror_rate</th>\n",
       "      <th>labels</th>\n",
       "    </tr>\n",
       "  </thead>\n",
       "  <tbody>\n",
       "    <tr>\n",
       "      <td>0</td>\n",
       "      <td>2</td>\n",
       "      <td>2</td>\n",
       "      <td>0.0</td>\n",
       "      <td>0.0</td>\n",
       "      <td>1.00</td>\n",
       "      <td>0.00</td>\n",
       "      <td>150</td>\n",
       "      <td>25</td>\n",
       "      <td>0.17</td>\n",
       "      <td>0.03</td>\n",
       "      <td>0.17</td>\n",
       "      <td>0.05</td>\n",
       "      <td>0.00</td>\n",
       "      <td>11</td>\n",
       "    </tr>\n",
       "    <tr>\n",
       "      <td>1</td>\n",
       "      <td>13</td>\n",
       "      <td>1</td>\n",
       "      <td>0.0</td>\n",
       "      <td>0.0</td>\n",
       "      <td>0.08</td>\n",
       "      <td>0.15</td>\n",
       "      <td>255</td>\n",
       "      <td>1</td>\n",
       "      <td>0.00</td>\n",
       "      <td>0.60</td>\n",
       "      <td>0.88</td>\n",
       "      <td>0.00</td>\n",
       "      <td>0.00</td>\n",
       "      <td>11</td>\n",
       "    </tr>\n",
       "    <tr>\n",
       "      <td>2</td>\n",
       "      <td>123</td>\n",
       "      <td>6</td>\n",
       "      <td>0.0</td>\n",
       "      <td>0.0</td>\n",
       "      <td>0.05</td>\n",
       "      <td>0.07</td>\n",
       "      <td>255</td>\n",
       "      <td>26</td>\n",
       "      <td>0.10</td>\n",
       "      <td>0.05</td>\n",
       "      <td>0.00</td>\n",
       "      <td>0.00</td>\n",
       "      <td>0.00</td>\n",
       "      <td>9</td>\n",
       "    </tr>\n",
       "    <tr>\n",
       "      <td>3</td>\n",
       "      <td>5</td>\n",
       "      <td>5</td>\n",
       "      <td>0.0</td>\n",
       "      <td>0.0</td>\n",
       "      <td>1.00</td>\n",
       "      <td>0.00</td>\n",
       "      <td>30</td>\n",
       "      <td>255</td>\n",
       "      <td>1.00</td>\n",
       "      <td>0.00</td>\n",
       "      <td>0.03</td>\n",
       "      <td>0.00</td>\n",
       "      <td>0.01</td>\n",
       "      <td>11</td>\n",
       "    </tr>\n",
       "    <tr>\n",
       "      <td>4</td>\n",
       "      <td>30</td>\n",
       "      <td>32</td>\n",
       "      <td>0.0</td>\n",
       "      <td>0.0</td>\n",
       "      <td>1.00</td>\n",
       "      <td>0.00</td>\n",
       "      <td>255</td>\n",
       "      <td>255</td>\n",
       "      <td>1.00</td>\n",
       "      <td>0.00</td>\n",
       "      <td>0.00</td>\n",
       "      <td>0.00</td>\n",
       "      <td>0.00</td>\n",
       "      <td>11</td>\n",
       "    </tr>\n",
       "  </tbody>\n",
       "</table>\n",
       "</div>"
      ],
      "text/plain": [
       "   count  srv_count  rerror_rate  srv_rerror_rate  same_srv_rate  \\\n",
       "0      2          2          0.0              0.0           1.00   \n",
       "1     13          1          0.0              0.0           0.08   \n",
       "2    123          6          0.0              0.0           0.05   \n",
       "3      5          5          0.0              0.0           1.00   \n",
       "4     30         32          0.0              0.0           1.00   \n",
       "\n",
       "   diff_srv_rate  dst_host_count  dst_host_srv_count  dst_host_same_srv_rate  \\\n",
       "0           0.00             150                  25                    0.17   \n",
       "1           0.15             255                   1                    0.00   \n",
       "2           0.07             255                  26                    0.10   \n",
       "3           0.00              30                 255                    1.00   \n",
       "4           0.00             255                 255                    1.00   \n",
       "\n",
       "   dst_host_diff_srv_rate  dst_host_same_src_port_rate  dst_host_rerror_rate  \\\n",
       "0                    0.03                         0.17                  0.05   \n",
       "1                    0.60                         0.88                  0.00   \n",
       "2                    0.05                         0.00                  0.00   \n",
       "3                    0.00                         0.03                  0.00   \n",
       "4                    0.00                         0.00                  0.00   \n",
       "\n",
       "   dst_host_srv_rerror_rate  labels  \n",
       "0                      0.00      11  \n",
       "1                      0.00      11  \n",
       "2                      0.00       9  \n",
       "3                      0.01      11  \n",
       "4                      0.00      11  "
      ]
     },
     "execution_count": 4,
     "metadata": {},
     "output_type": "execute_result"
    }
   ],
   "source": [
    "df.head()"
   ]
  },
  {
   "cell_type": "code",
   "execution_count": 5,
   "metadata": {},
   "outputs": [
    {
     "name": "stdout",
     "output_type": "stream",
     "text": [
      "<class 'pandas.core.frame.DataFrame'>\n",
      "RangeIndex: 125973 entries, 0 to 125972\n",
      "Data columns (total 14 columns):\n",
      "count                          125973 non-null int64\n",
      "srv_count                      125973 non-null int64\n",
      "rerror_rate                    125973 non-null float64\n",
      "srv_rerror_rate                125973 non-null float64\n",
      "same_srv_rate                  125973 non-null float64\n",
      "diff_srv_rate                  125973 non-null float64\n",
      "dst_host_count                 125973 non-null int64\n",
      "dst_host_srv_count             125973 non-null int64\n",
      "dst_host_same_srv_rate         125973 non-null float64\n",
      "dst_host_diff_srv_rate         125973 non-null float64\n",
      "dst_host_same_src_port_rate    125973 non-null float64\n",
      "dst_host_rerror_rate           125973 non-null float64\n",
      "dst_host_srv_rerror_rate       125973 non-null float64\n",
      "labels                         125973 non-null int64\n",
      "dtypes: float64(9), int64(5)\n",
      "memory usage: 13.5 MB\n"
     ]
    }
   ],
   "source": [
    "df.info()"
   ]
  },
  {
   "cell_type": "code",
   "execution_count": 6,
   "metadata": {},
   "outputs": [
    {
     "data": {
      "text/plain": [
       "23"
      ]
     },
     "execution_count": 6,
     "metadata": {},
     "output_type": "execute_result"
    }
   ],
   "source": [
    "df['labels'].nunique()"
   ]
  },
  {
   "cell_type": "code",
   "execution_count": 7,
   "metadata": {},
   "outputs": [
    {
     "data": {
      "text/plain": [
       "<matplotlib.axes._subplots.AxesSubplot at 0x7ff6e7ca2310>"
      ]
     },
     "execution_count": 7,
     "metadata": {},
     "output_type": "execute_result"
    },
    {
     "data": {
      "image/png": "[encoded data removed]",
      "text/plain": [
       "<Figure size 432x288 with 1 Axes>"
      ]
     },
     "metadata": {
      "needs_background": "light"
     },
     "output_type": "display_data"
    }
   ],
   "source": [
    "df.corr()['labels'][:-1].sort_values().plot(kind='bar')"
   ]
  },
  {
   "cell_type": "code",
   "execution_count": 8,
   "metadata": {},
   "outputs": [],
   "source": [
    "X = df.drop('labels',axis=1).values\n",
    "y = df['labels'].values\n",
    "from sklearn.model_selection import train_test_split\n",
    "X_train, X_test, y_train, y_test = train_test_split(X, y, test_size=0.33, random_state=42)"
   ]
  },
  {
   "cell_type": "code",
   "execution_count": 9,
   "metadata": {},
   "outputs": [],
   "source": [
    "from sklearn.preprocessing import MinMaxScaler\n",
    "scaler = MinMaxScaler()\n",
    "X_train = scaler.fit_transform(X_train)\n",
    "X_test = scaler.transform(X_test)"
   ]
  },
  {
   "cell_type": "code",
   "execution_count": 10,
   "metadata": {},
   "outputs": [],
   "source": [
    "import tensorflow as tf\n",
    "from tensorflow.keras.models import Sequential\n",
    "from tensorflow.keras.layers import Dense,Dropout"
   ]
  },
  {
   "cell_type": "code",
   "execution_count": 11,
   "metadata": {},
   "outputs": [
    {
     "data": {
      "text/plain": [
       "(125973, 14)"
      ]
     },
     "execution_count": 11,
     "metadata": {},
     "output_type": "execute_result"
    }
   ],
   "source": [
    "df.shape"
   ]
  },
  {
   "cell_type": "code",
   "execution_count": 42,
   "metadata": {},
   "outputs": [],
   "source": [
    "model = Sequential()\n",
    "\n",
    "model.add(Dense(13,activation='relu'))\n",
    "model.add(Dropout(0.2))\n",
    "\n",
    "model.add(Dense(6,activation='relu'))\n",
    "model.add(Dropout(0.2))\n",
    "\n",
    "model.add(Dense(3,activation='relu'))\n",
    "model.add(Dropout(0.2))\n",
    "\n",
    "model.add(Dense(1,activation='sigmoid'))\n",
    "\n",
    "model.compile(optimizer='adam',\n",
    "              loss='categorical_crossentropy',\n",
    "              metrics=['accuracy'])"
   ]
  },
  {
   "cell_type": "code",
   "execution_count": 49,
   "metadata": {},
   "outputs": [
    {
     "name": "stdout",
     "output_type": "stream",
     "text": [
      "Train on 84401 samples, validate on 41572 samples\n",
      "Epoch 1/100\n",
      "84401/84401 [==============================] - 4s 42us/sample - loss: 1.2668e-06 - accuracy: 0.0065 - val_loss: 1.2664e-06 - val_accuracy: 0.0075\n",
      "Epoch 2/100\n",
      "84401/84401 [==============================] - 3s 39us/sample - loss: 1.2668e-06 - accuracy: 0.0065 - val_loss: 1.2664e-06 - val_accuracy: 0.0075\n",
      "Epoch 3/100\n",
      "84401/84401 [==============================] - 3s 40us/sample - loss: 1.2668e-06 - accuracy: 0.0065 - val_loss: 1.2664e-06 - val_accuracy: 0.0075\n",
      "Epoch 4/100\n",
      "84401/84401 [==============================] - 4s 42us/sample - loss: 1.2668e-06 - accuracy: 0.0066 - val_loss: 1.2664e-06 - val_accuracy: 0.0075\n",
      "Epoch 5/100\n",
      "84401/84401 [==============================] - 3s 40us/sample - loss: 1.2668e-06 - accuracy: 0.0066 - val_loss: 1.2664e-06 - val_accuracy: 0.0075\n",
      "Epoch 6/100\n",
      "84401/84401 [==============================] - 3s 41us/sample - loss: 1.2668e-06 - accuracy: 0.0066 - val_loss: 1.2664e-06 - val_accuracy: 0.0075\n",
      "Epoch 7/100\n",
      "84401/84401 [==============================] - 4s 44us/sample - loss: 1.2668e-06 - accuracy: 0.0066 - val_loss: 1.2664e-06 - val_accuracy: 0.0075\n",
      "Epoch 8/100\n",
      "84401/84401 [==============================] - 4s 42us/sample - loss: 1.2668e-06 - accuracy: 0.0067 - val_loss: 1.2664e-06 - val_accuracy: 0.0075\n",
      "Epoch 9/100\n",
      "84401/84401 [==============================] - 4s 42us/sample - loss: 1.2668e-06 - accuracy: 0.0066 - val_loss: 1.2664e-06 - val_accuracy: 0.0075\n",
      "Epoch 10/100\n",
      "84401/84401 [==============================] - 3s 40us/sample - loss: 1.2668e-06 - accuracy: 0.0064 - val_loss: 1.2664e-06 - val_accuracy: 0.0075\n",
      "Epoch 11/100\n",
      "84401/84401 [==============================] - 4s 43us/sample - loss: 1.2668e-06 - accuracy: 0.0066 - val_loss: 1.2664e-06 - val_accuracy: 0.0075\n",
      "Epoch 12/100\n",
      "84401/84401 [==============================] - 3s 40us/sample - loss: 1.2668e-06 - accuracy: 0.0067 - val_loss: 1.2664e-06 - val_accuracy: 0.0075\n",
      "Epoch 13/100\n",
      "84401/84401 [==============================] - 4s 45us/sample - loss: 1.2668e-06 - accuracy: 0.0065 - val_loss: 1.2664e-06 - val_accuracy: 0.0075\n",
      "Epoch 14/100\n",
      "84401/84401 [==============================] - 4s 45us/sample - loss: 1.2668e-06 - accuracy: 0.0067 - val_loss: 1.2664e-06 - val_accuracy: 0.0075\n",
      "Epoch 15/100\n",
      "84401/84401 [==============================] - 3s 41us/sample - loss: 1.2668e-06 - accuracy: 0.0066 - val_loss: 1.2664e-06 - val_accuracy: 0.0075\n",
      "Epoch 16/100\n",
      "84401/84401 [==============================] - 4s 43us/sample - loss: 1.2668e-06 - accuracy: 0.0067 - val_loss: 1.2664e-06 - val_accuracy: 0.0075\n",
      "Epoch 17/100\n",
      "84401/84401 [==============================] - 4s 42us/sample - loss: 1.2668e-06 - accuracy: 0.0066 - val_loss: 1.2664e-06 - val_accuracy: 0.0075\n",
      "Epoch 18/100\n",
      "84401/84401 [==============================] - 4s 43us/sample - loss: 1.2668e-06 - accuracy: 0.0068 - val_loss: 1.2664e-06 - val_accuracy: 0.0075\n",
      "Epoch 19/100\n",
      "84401/84401 [==============================] - 4s 42us/sample - loss: 1.2668e-06 - accuracy: 0.0068 - val_loss: 1.2664e-06 - val_accuracy: 0.0075\n",
      "Epoch 20/100\n",
      "84401/84401 [==============================] - 4s 45us/sample - loss: 1.2668e-06 - accuracy: 0.0067 - val_loss: 1.2664e-06 - val_accuracy: 0.0075\n",
      "Epoch 21/100\n",
      "84401/84401 [==============================] - 4s 45us/sample - loss: 1.2668e-06 - accuracy: 0.0066 - val_loss: 1.2664e-06 - val_accuracy: 0.0075\n",
      "Epoch 22/100\n",
      "84401/84401 [==============================] - 4s 47us/sample - loss: 1.2668e-06 - accuracy: 0.0069 - val_loss: 1.2664e-06 - val_accuracy: 0.0075\n",
      "Epoch 23/100\n",
      "84401/84401 [==============================] - 4s 43us/sample - loss: 1.2668e-06 - accuracy: 0.0066 - val_loss: 1.2664e-06 - val_accuracy: 0.0075\n",
      "Epoch 24/100\n",
      "84401/84401 [==============================] - 4s 45us/sample - loss: 1.2668e-06 - accuracy: 0.0066 - val_loss: 1.2664e-06 - val_accuracy: 0.0075\n",
      "Epoch 25/100\n",
      "84401/84401 [==============================] - 4s 45us/sample - loss: 1.2668e-06 - accuracy: 0.0067 - val_loss: 1.2664e-06 - val_accuracy: 0.0075\n",
      "Epoch 26/100\n",
      "84401/84401 [==============================] - 4s 44us/sample - loss: 1.2668e-06 - accuracy: 0.0068 - val_loss: 1.2664e-06 - val_accuracy: 0.0075\n",
      "Epoch 27/100\n",
      "84401/84401 [==============================] - 4s 48us/sample - loss: 1.2668e-06 - accuracy: 0.0067 - val_loss: 1.2664e-06 - val_accuracy: 0.0075\n",
      "Epoch 28/100\n",
      "84401/84401 [==============================] - 4s 45us/sample - loss: 1.2668e-06 - accuracy: 0.0066 - val_loss: 1.2664e-06 - val_accuracy: 0.0075\n",
      "Epoch 29/100\n",
      "84401/84401 [==============================] - 4s 49us/sample - loss: 1.2668e-06 - accuracy: 0.0066 - val_loss: 1.2664e-06 - val_accuracy: 0.0075\n",
      "Epoch 30/100\n",
      "84401/84401 [==============================] - 4s 45us/sample - loss: 1.2668e-06 - accuracy: 0.0065 - val_loss: 1.2664e-06 - val_accuracy: 0.0075\n",
      "Epoch 31/100\n",
      "84401/84401 [==============================] - 4s 51us/sample - loss: 1.2668e-06 - accuracy: 0.0065 - val_loss: 1.2664e-06 - val_accuracy: 0.0075\n",
      "Epoch 32/100\n",
      "84401/84401 [==============================] - 4s 47us/sample - loss: 1.2668e-06 - accuracy: 0.0065 - val_loss: 1.2664e-06 - val_accuracy: 0.0075\n",
      "Epoch 33/100\n",
      "84401/84401 [==============================] - 4s 46us/sample - loss: 1.2668e-06 - accuracy: 0.0066 - val_loss: 1.2664e-06 - val_accuracy: 0.0075\n",
      "Epoch 34/100\n",
      "84401/84401 [==============================] - 4s 48us/sample - loss: 1.2668e-06 - accuracy: 0.0065 - val_loss: 1.2664e-06 - val_accuracy: 0.0075\n",
      "Epoch 35/100\n",
      "84401/84401 [==============================] - 4s 47us/sample - loss: 1.2668e-06 - accuracy: 0.0068 - val_loss: 1.2664e-06 - val_accuracy: 0.0075\n",
      "Epoch 36/100\n",
      "84401/84401 [==============================] - 4s 50us/sample - loss: 1.2668e-06 - accuracy: 0.0068 - val_loss: 1.2664e-06 - val_accuracy: 0.0075\n",
      "Epoch 37/100\n",
      "84401/84401 [==============================] - 4s 49us/sample - loss: 1.2668e-06 - accuracy: 0.0064 - val_loss: 1.2664e-06 - val_accuracy: 0.0075\n",
      "Epoch 38/100\n",
      "84401/84401 [==============================] - 4s 51us/sample - loss: 1.2668e-06 - accuracy: 0.0067 - val_loss: 1.2664e-06 - val_accuracy: 0.0075\n",
      "Epoch 39/100\n",
      "84401/84401 [==============================] - 4s 48us/sample - loss: 1.2668e-06 - accuracy: 0.0067 - val_loss: 1.2664e-06 - val_accuracy: 0.0075\n",
      "Epoch 40/100\n",
      "84401/84401 [==============================] - 4s 53us/sample - loss: 1.2668e-06 - accuracy: 0.0067 - val_loss: 1.2664e-06 - val_accuracy: 0.0075\n",
      "Epoch 41/100\n",
      "84401/84401 [==============================] - 4s 45us/sample - loss: 1.2668e-06 - accuracy: 0.0066 - val_loss: 1.2664e-06 - val_accuracy: 0.0075\n",
      "Epoch 42/100\n",
      "84401/84401 [==============================] - 4s 48us/sample - loss: 1.2668e-06 - accuracy: 0.0067 - val_loss: 1.2664e-06 - val_accuracy: 0.0075\n",
      "Epoch 43/100\n",
      "84401/84401 [==============================] - 4s 45us/sample - loss: 1.2668e-06 - accuracy: 0.0068 - val_loss: 1.2664e-06 - val_accuracy: 0.0075\n",
      "Epoch 44/100\n",
      "84401/84401 [==============================] - 4s 47us/sample - loss: 1.2668e-06 - accuracy: 0.0068 - val_loss: 1.2664e-06 - val_accuracy: 0.0075\n",
      "Epoch 45/100\n",
      "84401/84401 [==============================] - 4s 49us/sample - loss: 1.2668e-06 - accuracy: 0.0066 - val_loss: 1.2664e-06 - val_accuracy: 0.0075\n",
      "Epoch 46/100\n",
      "84401/84401 [==============================] - 4s 46us/sample - loss: 1.2668e-06 - accuracy: 0.0066 - val_loss: 1.2664e-06 - val_accuracy: 0.0075\n",
      "Epoch 47/100\n",
      "84401/84401 [==============================] - 4s 46us/sample - loss: 1.2668e-06 - accuracy: 0.0066 - val_loss: 1.2664e-06 - val_accuracy: 0.0075\n",
      "Epoch 48/100\n",
      "84401/84401 [==============================] - 4s 43us/sample - loss: 1.2668e-06 - accuracy: 0.0070 - val_loss: 1.2664e-06 - val_accuracy: 0.0075\n",
      "Epoch 49/100\n",
      "84401/84401 [==============================] - 4s 48us/sample - loss: 1.2668e-06 - accuracy: 0.0068 - val_loss: 1.2664e-06 - val_accuracy: 0.0075\n",
      "Epoch 50/100\n",
      "84401/84401 [==============================] - 4s 50us/sample - loss: 1.2668e-06 - accuracy: 0.0068 - val_loss: 1.2664e-06 - val_accuracy: 0.0075\n",
      "Epoch 51/100\n",
      "84401/84401 [==============================] - 4s 48us/sample - loss: 1.2668e-06 - accuracy: 0.0068 - val_loss: 1.2664e-06 - val_accuracy: 0.0075\n",
      "Epoch 52/100\n"
     ]
    },
    {
     "name": "stdout",
     "output_type": "stream",
     "text": [
      "84401/84401 [==============================] - 3s 40us/sample - loss: 1.2668e-06 - accuracy: 0.0065 - val_loss: 1.2664e-06 - val_accuracy: 0.0075\n",
      "Epoch 53/100\n",
      "84401/84401 [==============================] - 4s 45us/sample - loss: 1.2668e-06 - accuracy: 0.0068 - val_loss: 1.2664e-06 - val_accuracy: 0.0075\n",
      "Epoch 54/100\n",
      "84401/84401 [==============================] - 3s 41us/sample - loss: 1.2668e-06 - accuracy: 0.0065 - val_loss: 1.2664e-06 - val_accuracy: 0.0075\n",
      "Epoch 55/100\n",
      "84401/84401 [==============================] - 4s 43us/sample - loss: 1.2668e-06 - accuracy: 0.0065 - val_loss: 1.2664e-06 - val_accuracy: 0.0075\n",
      "Epoch 56/100\n",
      "84401/84401 [==============================] - 3s 41us/sample - loss: 1.2668e-06 - accuracy: 0.0065 - val_loss: 1.2664e-06 - val_accuracy: 0.0075\n",
      "Epoch 57/100\n",
      "84401/84401 [==============================] - 3s 37us/sample - loss: 1.2668e-06 - accuracy: 0.0067 - val_loss: 1.2664e-06 - val_accuracy: 0.0075\n",
      "Epoch 58/100\n",
      "84401/84401 [==============================] - 3s 39us/sample - loss: 1.2668e-06 - accuracy: 0.0067 - val_loss: 1.2664e-06 - val_accuracy: 0.0075\n",
      "Epoch 59/100\n",
      "84401/84401 [==============================] - 3s 39us/sample - loss: 1.2668e-06 - accuracy: 0.0067 - val_loss: 1.2664e-06 - val_accuracy: 0.0075\n",
      "Epoch 60/100\n",
      "84401/84401 [==============================] - 3s 41us/sample - loss: 1.2668e-06 - accuracy: 0.0067 - val_loss: 1.2664e-06 - val_accuracy: 0.0075\n",
      "Epoch 61/100\n",
      "84401/84401 [==============================] - 4s 44us/sample - loss: 1.2668e-06 - accuracy: 0.0067 - val_loss: 1.2664e-06 - val_accuracy: 0.0075\n",
      "Epoch 62/100\n",
      "84401/84401 [==============================] - 4s 42us/sample - loss: 1.2668e-06 - accuracy: 0.0064 - val_loss: 1.2664e-06 - val_accuracy: 0.0075\n",
      "Epoch 63/100\n",
      "84401/84401 [==============================] - 4s 42us/sample - loss: 1.2668e-06 - accuracy: 0.0066 - val_loss: 1.2664e-06 - val_accuracy: 0.0075\n",
      "Epoch 64/100\n",
      "84401/84401 [==============================] - 4s 44us/sample - loss: 1.2668e-06 - accuracy: 0.0064 - val_loss: 1.2664e-06 - val_accuracy: 0.0075\n",
      "Epoch 65/100\n",
      "84401/84401 [==============================] - 4s 48us/sample - loss: 1.2668e-06 - accuracy: 0.0066 - val_loss: 1.2664e-06 - val_accuracy: 0.0075\n",
      "Epoch 66/100\n",
      "84401/84401 [==============================] - 4s 48us/sample - loss: 1.2668e-06 - accuracy: 0.0065 - val_loss: 1.2664e-06 - val_accuracy: 0.0075\n",
      "Epoch 67/100\n",
      "84401/84401 [==============================] - 4s 42us/sample - loss: 1.2668e-06 - accuracy: 0.0066 - val_loss: 1.2664e-06 - val_accuracy: 0.0075\n",
      "Epoch 68/100\n",
      "84401/84401 [==============================] - 4s 44us/sample - loss: 1.2668e-06 - accuracy: 0.0067 - val_loss: 1.2664e-06 - val_accuracy: 0.0075\n",
      "Epoch 69/100\n",
      "84401/84401 [==============================] - 4s 45us/sample - loss: 1.2668e-06 - accuracy: 0.0066 - val_loss: 1.2664e-06 - val_accuracy: 0.0075\n",
      "Epoch 70/100\n",
      "84401/84401 [==============================] - 4s 43us/sample - loss: 1.2668e-06 - accuracy: 0.0065 - val_loss: 1.2664e-06 - val_accuracy: 0.0075\n",
      "Epoch 71/100\n",
      "84401/84401 [==============================] - 4s 42us/sample - loss: 1.2668e-06 - accuracy: 0.0066 - val_loss: 1.2664e-06 - val_accuracy: 0.0075\n",
      "Epoch 72/100\n",
      "84401/84401 [==============================] - 4s 43us/sample - loss: 1.2668e-06 - accuracy: 0.0068 - val_loss: 1.2664e-06 - val_accuracy: 0.0075\n",
      "Epoch 73/100\n",
      "84401/84401 [==============================] - 3s 41us/sample - loss: 1.2668e-06 - accuracy: 0.0065 - val_loss: 1.2664e-06 - val_accuracy: 0.0075\n",
      "Epoch 74/100\n",
      "84401/84401 [==============================] - 4s 44us/sample - loss: 1.2668e-06 - accuracy: 0.0066 - val_loss: 1.2664e-06 - val_accuracy: 0.0075\n",
      "Epoch 75/100\n",
      "84401/84401 [==============================] - 4s 43us/sample - loss: 1.2668e-06 - accuracy: 0.0065 - val_loss: 1.2664e-06 - val_accuracy: 0.0075\n",
      "Epoch 76/100\n",
      "84401/84401 [==============================] - 4s 44us/sample - loss: 1.2668e-06 - accuracy: 0.0067 - val_loss: 1.2664e-06 - val_accuracy: 0.0075\n",
      "Epoch 77/100\n",
      "84401/84401 [==============================] - 4s 43us/sample - loss: 1.2668e-06 - accuracy: 0.0066 - val_loss: 1.2664e-06 - val_accuracy: 0.0075\n",
      "Epoch 78/100\n",
      "84401/84401 [==============================] - 4s 42us/sample - loss: 1.2668e-06 - accuracy: 0.0064 - val_loss: 1.2664e-06 - val_accuracy: 0.0075\n",
      "Epoch 79/100\n",
      "84401/84401 [==============================] - 4s 46us/sample - loss: 1.2668e-06 - accuracy: 0.0067 - val_loss: 1.2664e-06 - val_accuracy: 0.0075\n",
      "Epoch 80/100\n",
      "84401/84401 [==============================] - 4s 43us/sample - loss: 1.2668e-06 - accuracy: 0.0067 - val_loss: 1.2664e-06 - val_accuracy: 0.0075\n",
      "Epoch 81/100\n",
      "84401/84401 [==============================] - 4s 42us/sample - loss: 1.2668e-06 - accuracy: 0.0066 - val_loss: 1.2664e-06 - val_accuracy: 0.0075\n",
      "Epoch 82/100\n",
      "84401/84401 [==============================] - 4s 50us/sample - loss: 1.2668e-06 - accuracy: 0.0066 - val_loss: 1.2664e-06 - val_accuracy: 0.0075\n",
      "Epoch 83/100\n",
      "84401/84401 [==============================] - 4s 43us/sample - loss: 1.2668e-06 - accuracy: 0.0065 - val_loss: 1.2664e-06 - val_accuracy: 0.0075\n",
      "Epoch 84/100\n",
      "84401/84401 [==============================] - 4s 44us/sample - loss: 1.2668e-06 - accuracy: 0.0067 - val_loss: 1.2664e-06 - val_accuracy: 0.0075\n",
      "Epoch 85/100\n",
      "84401/84401 [==============================] - 3s 41us/sample - loss: 1.2668e-06 - accuracy: 0.0064 - val_loss: 1.2664e-06 - val_accuracy: 0.0075\n",
      "Epoch 86/100\n",
      "84401/84401 [==============================] - 4s 44us/sample - loss: 1.2668e-06 - accuracy: 0.0068 - val_loss: 1.2664e-06 - val_accuracy: 0.0075\n",
      "Epoch 87/100\n",
      "84401/84401 [==============================] - 4s 42us/sample - loss: 1.2668e-06 - accuracy: 0.0067 - val_loss: 1.2664e-06 - val_accuracy: 0.0075\n",
      "Epoch 88/100\n",
      "84401/84401 [==============================] - 4s 46us/sample - loss: 1.2668e-06 - accuracy: 0.0066 - val_loss: 1.2664e-06 - val_accuracy: 0.0075\n",
      "Epoch 89/100\n",
      "84401/84401 [==============================] - 4s 44us/sample - loss: 1.2668e-06 - accuracy: 0.0068 - val_loss: 1.2664e-06 - val_accuracy: 0.0075\n",
      "Epoch 90/100\n",
      "84401/84401 [==============================] - 4s 43us/sample - loss: 1.2668e-06 - accuracy: 0.0065 - val_loss: 1.2664e-06 - val_accuracy: 0.0075\n",
      "Epoch 91/100\n",
      "84401/84401 [==============================] - 4s 43us/sample - loss: 1.2668e-06 - accuracy: 0.0064 - val_loss: 1.2664e-06 - val_accuracy: 0.0075\n",
      "Epoch 92/100\n",
      "84401/84401 [==============================] - 4s 43us/sample - loss: 1.2668e-06 - accuracy: 0.0065 - val_loss: 1.2664e-06 - val_accuracy: 0.0075\n",
      "Epoch 93/100\n",
      "84401/84401 [==============================] - 3s 41us/sample - loss: 1.2668e-06 - accuracy: 0.0065 - val_loss: 1.2664e-06 - val_accuracy: 0.0075\n",
      "Epoch 94/100\n",
      "84401/84401 [==============================] - 4s 47us/sample - loss: 1.2668e-06 - accuracy: 0.0069 - val_loss: 1.2664e-06 - val_accuracy: 0.0075\n",
      "Epoch 95/100\n",
      "84401/84401 [==============================] - 4s 44us/sample - loss: 1.2668e-06 - accuracy: 0.0067 - val_loss: 1.2664e-06 - val_accuracy: 0.0075\n",
      "Epoch 96/100\n",
      "84401/84401 [==============================] - 4s 47us/sample - loss: 1.2668e-06 - accuracy: 0.0066 - val_loss: 1.2664e-06 - val_accuracy: 0.0075\n",
      "Epoch 97/100\n",
      "84401/84401 [==============================] - 3s 41us/sample - loss: 1.2668e-06 - accuracy: 0.0066 - val_loss: 1.2664e-06 - val_accuracy: 0.0075\n",
      "Epoch 98/100\n",
      "84401/84401 [==============================] - 4s 48us/sample - loss: 1.2668e-06 - accuracy: 0.0068 - val_loss: 1.2664e-06 - val_accuracy: 0.0075\n",
      "Epoch 99/100\n",
      "84401/84401 [==============================] - 4s 45us/sample - loss: 1.2668e-06 - accuracy: 0.0066 - val_loss: 1.2664e-06 - val_accuracy: 0.0075\n",
      "Epoch 100/100\n",
      "84401/84401 [==============================] - 3s 39us/sample - loss: 1.2668e-06 - accuracy: 0.0067 - val_loss: 1.2664e-06 - val_accuracy: 0.0075\n"
     ]
    },
    {
     "data": {
      "text/plain": [
       "<tensorflow.python.keras.callbacks.History at 0x7ff64b93ccd0>"
      ]
     },
     "execution_count": 49,
     "metadata": {},
     "output_type": "execute_result"
    }
   ],
   "source": [
    "model.fit(x=X_train,\n",
    "          y=y_train,\n",
    "          batch_size=256,\n",
    "          epochs=100,\n",
    "          validation_data=(X_test,y_test))"
   ]
  },
  {
   "cell_type": "code",
   "execution_count": 50,
   "metadata": {},
   "outputs": [
    {
     "data": {
      "text/plain": [
       "<matplotlib.axes._subplots.AxesSubplot at 0x7ff64b900490>"
      ]
     },
     "execution_count": 50,
     "metadata": {},
     "output_type": "execute_result"
    },
    {
     "data": {
      "image/png": "[encoded data removed]",
      "text/plain": [
       "<Figure size 432x288 with 1 Axes>"
      ]
     },
     "metadata": {
      "needs_background": "light"
     },
     "output_type": "display_data"
    }
   ],
   "source": [
    "loss = pd.DataFrame(model.history.history)\n",
    "loss.plot()"
   ]
  },
  {
   "cell_type": "code",
   "execution_count": 51,
   "metadata": {},
   "outputs": [],
   "source": [
    "predication = model.predict_classes(X_test)"
   ]
  },
  {
   "cell_type": "code",
   "execution_count": 52,
   "metadata": {},
   "outputs": [],
   "source": [
    "from sklearn.metrics import classification_report,accuracy_score"
   ]
  },
  {
   "cell_type": "code",
   "execution_count": 53,
   "metadata": {},
   "outputs": [
    {
     "name": "stdout",
     "output_type": "stream",
     "text": [
      "              precision    recall  f1-score   support\n",
      "\n",
      "           0       0.01      1.00      0.02       310\n",
      "           1       0.00      0.00      0.00        11\n",
      "           2       0.00      0.00      0.00         3\n",
      "           3       0.00      0.00      0.00        21\n",
      "           4       0.00      0.00      0.00         5\n",
      "           5       0.00      0.00      0.00      1224\n",
      "           6       0.00      0.00      0.00         7\n",
      "           7       0.00      0.00      0.00         1\n",
      "           8       0.00      0.00      0.00         1\n",
      "           9       0.00      0.00      0.00     13577\n",
      "          10       0.00      0.00      0.00       512\n",
      "          11       0.00      0.00      0.00     22193\n",
      "          12       0.00      0.00      0.00         1\n",
      "          13       0.00      0.00      0.00         1\n",
      "          14       0.00      0.00      0.00        70\n",
      "          15       0.00      0.00      0.00       954\n",
      "          16       0.00      0.00      0.00         4\n",
      "          17       0.00      0.00      0.00      1206\n",
      "          18       0.00      0.00      0.00       861\n",
      "          19       0.00      0.00      0.00         1\n",
      "          20       0.00      0.00      0.00       284\n",
      "          21       0.00      0.00      0.00       317\n",
      "          22       0.00      0.00      0.00         8\n",
      "\n",
      "    accuracy                           0.01     41572\n",
      "   macro avg       0.00      0.04      0.00     41572\n",
      "weighted avg       0.00      0.01      0.00     41572\n",
      "\n"
     ]
    }
   ],
   "source": [
    "print(classification_report(y_test,predication))"
   ]
  },
  {
   "cell_type": "code",
   "execution_count": 54,
   "metadata": {},
   "outputs": [
    {
     "name": "stdout",
     "output_type": "stream",
     "text": [
      "0.007456942172616184\n"
     ]
    }
   ],
   "source": [
    "print(accuracy_score(y_test,predication))"
   ]
  },
  {
   "cell_type": "code",
   "execution_count": null,
   "metadata": {},
   "outputs": [],
   "source": []
  }
 ],
 "metadata": {
  "kernelspec": {
   "display_name": "Python 3",
   "language": "python",
   "name": "python3"
  },
  "language_info": {
   "codemirror_mode": {
    "name": "ipython",
    "version": 3
   },
   "file_extension": ".py",
   "mimetype": "text/x-python",
   "name": "python",
   "nbconvert_exporter": "python",
   "pygments_lexer": "ipython3",
   "version": "3.7.4"
  }
 },
 "nbformat": 4,
 "nbformat_minor": 2
}
