{
 "cells": [
  {
   "cell_type": "code",
   "execution_count": 1,
   "metadata": {},
   "outputs": [],
   "source": [
    "import numpy as np \n",
    "import pandas as pd\n",
    "import matplotlib.pyplot as plt\n",
    "import seaborn as sns\n",
    "\n",
    "%matplotlib inline"
   ]
  },
  {
   "cell_type": "code",
   "execution_count": 2,
   "metadata": {},
   "outputs": [],
   "source": [
    "df = pd.read_csv('../Featre Engineering/New_KDDTrain+.txt')"
   ]
  },
  {
   "cell_type": "code",
   "execution_count": 3,
   "metadata": {},
   "outputs": [
    {
     "data": {
      "text/html": [
       "<div>\n",
       "<style scoped>\n",
       "    .dataframe tbody tr th:only-of-type {\n",
       "        vertical-align: middle;\n",
       "    }\n",
       "\n",
       "    .dataframe tbody tr th {\n",
       "        vertical-align: top;\n",
       "    }\n",
       "\n",
       "    .dataframe thead th {\n",
       "        text-align: right;\n",
       "    }\n",
       "</style>\n",
       "<table border=\"1\" class=\"dataframe\">\n",
       "  <thead>\n",
       "    <tr style=\"text-align: right;\">\n",
       "      <th></th>\n",
       "      <th>count</th>\n",
       "      <th>srv_count</th>\n",
       "      <th>rerror_rate</th>\n",
       "      <th>srv_rerror_rate</th>\n",
       "      <th>same_srv_rate</th>\n",
       "      <th>diff_srv_rate</th>\n",
       "      <th>dst_host_count</th>\n",
       "      <th>dst_host_srv_count</th>\n",
       "      <th>dst_host_same_srv_rate</th>\n",
       "      <th>dst_host_diff_srv_rate</th>\n",
       "      <th>dst_host_same_src_port_rate</th>\n",
       "      <th>dst_host_rerror_rate</th>\n",
       "      <th>dst_host_srv_rerror_rate</th>\n",
       "      <th>labels</th>\n",
       "    </tr>\n",
       "  </thead>\n",
       "  <tbody>\n",
       "    <tr>\n",
       "      <td>0</td>\n",
       "      <td>2</td>\n",
       "      <td>2</td>\n",
       "      <td>0.0</td>\n",
       "      <td>0.0</td>\n",
       "      <td>1.00</td>\n",
       "      <td>0.00</td>\n",
       "      <td>150</td>\n",
       "      <td>25</td>\n",
       "      <td>0.17</td>\n",
       "      <td>0.03</td>\n",
       "      <td>0.17</td>\n",
       "      <td>0.05</td>\n",
       "      <td>0.00</td>\n",
       "      <td>11</td>\n",
       "    </tr>\n",
       "    <tr>\n",
       "      <td>1</td>\n",
       "      <td>13</td>\n",
       "      <td>1</td>\n",
       "      <td>0.0</td>\n",
       "      <td>0.0</td>\n",
       "      <td>0.08</td>\n",
       "      <td>0.15</td>\n",
       "      <td>255</td>\n",
       "      <td>1</td>\n",
       "      <td>0.00</td>\n",
       "      <td>0.60</td>\n",
       "      <td>0.88</td>\n",
       "      <td>0.00</td>\n",
       "      <td>0.00</td>\n",
       "      <td>11</td>\n",
       "    </tr>\n",
       "    <tr>\n",
       "      <td>2</td>\n",
       "      <td>123</td>\n",
       "      <td>6</td>\n",
       "      <td>0.0</td>\n",
       "      <td>0.0</td>\n",
       "      <td>0.05</td>\n",
       "      <td>0.07</td>\n",
       "      <td>255</td>\n",
       "      <td>26</td>\n",
       "      <td>0.10</td>\n",
       "      <td>0.05</td>\n",
       "      <td>0.00</td>\n",
       "      <td>0.00</td>\n",
       "      <td>0.00</td>\n",
       "      <td>9</td>\n",
       "    </tr>\n",
       "    <tr>\n",
       "      <td>3</td>\n",
       "      <td>5</td>\n",
       "      <td>5</td>\n",
       "      <td>0.0</td>\n",
       "      <td>0.0</td>\n",
       "      <td>1.00</td>\n",
       "      <td>0.00</td>\n",
       "      <td>30</td>\n",
       "      <td>255</td>\n",
       "      <td>1.00</td>\n",
       "      <td>0.00</td>\n",
       "      <td>0.03</td>\n",
       "      <td>0.00</td>\n",
       "      <td>0.01</td>\n",
       "      <td>11</td>\n",
       "    </tr>\n",
       "    <tr>\n",
       "      <td>4</td>\n",
       "      <td>30</td>\n",
       "      <td>32</td>\n",
       "      <td>0.0</td>\n",
       "      <td>0.0</td>\n",
       "      <td>1.00</td>\n",
       "      <td>0.00</td>\n",
       "      <td>255</td>\n",
       "      <td>255</td>\n",
       "      <td>1.00</td>\n",
       "      <td>0.00</td>\n",
       "      <td>0.00</td>\n",
       "      <td>0.00</td>\n",
       "      <td>0.00</td>\n",
       "      <td>11</td>\n",
       "    </tr>\n",
       "  </tbody>\n",
       "</table>\n",
       "</div>"
      ],
      "text/plain": [
       "   count  srv_count  rerror_rate  srv_rerror_rate  same_srv_rate  \\\n",
       "0      2          2          0.0              0.0           1.00   \n",
       "1     13          1          0.0              0.0           0.08   \n",
       "2    123          6          0.0              0.0           0.05   \n",
       "3      5          5          0.0              0.0           1.00   \n",
       "4     30         32          0.0              0.0           1.00   \n",
       "\n",
       "   diff_srv_rate  dst_host_count  dst_host_srv_count  dst_host_same_srv_rate  \\\n",
       "0           0.00             150                  25                    0.17   \n",
       "1           0.15             255                   1                    0.00   \n",
       "2           0.07             255                  26                    0.10   \n",
       "3           0.00              30                 255                    1.00   \n",
       "4           0.00             255                 255                    1.00   \n",
       "\n",
       "   dst_host_diff_srv_rate  dst_host_same_src_port_rate  dst_host_rerror_rate  \\\n",
       "0                    0.03                         0.17                  0.05   \n",
       "1                    0.60                         0.88                  0.00   \n",
       "2                    0.05                         0.00                  0.00   \n",
       "3                    0.00                         0.03                  0.00   \n",
       "4                    0.00                         0.00                  0.00   \n",
       "\n",
       "   dst_host_srv_rerror_rate  labels  \n",
       "0                      0.00      11  \n",
       "1                      0.00      11  \n",
       "2                      0.00       9  \n",
       "3                      0.01      11  \n",
       "4                      0.00      11  "
      ]
     },
     "execution_count": 3,
     "metadata": {},
     "output_type": "execute_result"
    }
   ],
   "source": [
    "df.head()"
   ]
  },
  {
   "cell_type": "code",
   "execution_count": 4,
   "metadata": {},
   "outputs": [
    {
     "name": "stdout",
     "output_type": "stream",
     "text": [
      "<class 'pandas.core.frame.DataFrame'>\n",
      "RangeIndex: 125973 entries, 0 to 125972\n",
      "Data columns (total 14 columns):\n",
      "count                          125973 non-null int64\n",
      "srv_count                      125973 non-null int64\n",
      "rerror_rate                    125973 non-null float64\n",
      "srv_rerror_rate                125973 non-null float64\n",
      "same_srv_rate                  125973 non-null float64\n",
      "diff_srv_rate                  125973 non-null float64\n",
      "dst_host_count                 125973 non-null int64\n",
      "dst_host_srv_count             125973 non-null int64\n",
      "dst_host_same_srv_rate         125973 non-null float64\n",
      "dst_host_diff_srv_rate         125973 non-null float64\n",
      "dst_host_same_src_port_rate    125973 non-null float64\n",
      "dst_host_rerror_rate           125973 non-null float64\n",
      "dst_host_srv_rerror_rate       125973 non-null float64\n",
      "labels                         125973 non-null int64\n",
      "dtypes: float64(9), int64(5)\n",
      "memory usage: 13.5 MB\n"
     ]
    }
   ],
   "source": [
    "df.info()"
   ]
  },
  {
   "cell_type": "code",
   "execution_count": 1,
   "metadata": {},
   "outputs": [],
   "source": [
    "from sklearn.pipeline import Pipeline\n",
    "from sklearn.ensemble import RandomForestClassifier\n",
    "from sklearn.feature_extraction.text import TfidfVectorizer"
   ]
  },
  {
   "cell_type": "code",
   "execution_count": 6,
   "metadata": {},
   "outputs": [],
   "source": [
    "X = df.drop('labels',axis=1)\n",
    "y = df['labels']"
   ]
  },
  {
   "cell_type": "code",
   "execution_count": 9,
   "metadata": {},
   "outputs": [],
   "source": [
    "X_train, X_test, y_train, y_test = train_test_split(X, y, test_size=0.33, random_state=42)"
   ]
  },
  {
   "cell_type": "code",
   "execution_count": 7,
   "metadata": {},
   "outputs": [],
   "source": [
    "from sklearn.ensemble import RandomForestClassifier"
   ]
  },
  {
   "cell_type": "code",
   "execution_count": 2,
   "metadata": {},
   "outputs": [],
   "source": [
    "#defult n_estimators is 100\n",
    "rf_model = RandomForestClassifier()\n",
    "rf_model.fit(X_train,y_train)\n",
    "predicted_labels = rf_model.predict(X_test)"
   ]
  },
  {
   "cell_type": "code",
   "execution_count": 25,
   "metadata": {},
   "outputs": [],
   "source": [
    "from sklearn.metrics import classification_report,confusion_matrix,accuracy_score"
   ]
  },
  {
   "cell_type": "code",
   "execution_count": 61,
   "metadata": {},
   "outputs": [
    {
     "name": "stdout",
     "output_type": "stream",
     "text": [
      "              precision    recall  f1-score   support\n",
      "\n",
      "           0       0.00      0.00      0.00       310\n",
      "           1       0.00      0.00      0.00        11\n",
      "           2       0.00      0.00      0.00         3\n",
      "           3       0.00      0.00      0.00        21\n",
      "           4       0.00      0.00      0.00         5\n",
      "           5       0.72      0.52      0.60      1224\n",
      "           6       0.00      0.00      0.00         7\n",
      "           7       0.00      0.00      0.00         1\n",
      "           8       0.00      0.00      0.00         1\n",
      "           9       0.95      0.97      0.96     13577\n",
      "          10       0.00      0.00      0.00       512\n",
      "          11       0.86      0.99      0.92     22193\n",
      "          12       0.00      0.00      0.00         1\n",
      "          13       0.00      0.00      0.00         1\n",
      "          14       0.00      0.00      0.00        70\n",
      "          15       0.50      0.00      0.00       954\n",
      "          16       0.00      0.00      0.00         4\n",
      "          17       0.93      0.37      0.53      1206\n",
      "          18       0.94      0.66      0.77       861\n",
      "          19       0.00      0.00      0.00         1\n",
      "          20       0.79      0.56      0.66       284\n",
      "          21       0.00      0.00      0.00       317\n",
      "          22       0.00      0.00      0.00         8\n",
      "\n",
      "    accuracy                           0.89     41572\n",
      "   macro avg       0.25      0.18      0.19     41572\n",
      "weighted avg       0.85      0.89      0.86     41572\n",
      "\n",
      "\n",
      "\n",
      "0.8885547964976427\n"
     ]
    },
    {
     "name": "stderr",
     "output_type": "stream",
     "text": [
      "/root/anaconda3/lib/python3.7/site-packages/sklearn/metrics/_classification.py:1272: UndefinedMetricWarning: Precision and F-score are ill-defined and being set to 0.0 in labels with no predicted samples. Use `zero_division` parameter to control this behavior.\n",
      "  _warn_prf(average, modifier, msg_start, len(result))\n"
     ]
    }
   ],
   "source": [
    "print(classification_report(y_test,predicted_labels))\n",
    "print('\\n')\n",
    "print(accuracy_score(y_test,predicted_labels))"
   ]
  },
  {
   "cell_type": "code",
   "execution_count": 16,
   "metadata": {},
   "outputs": [
    {
     "data": {
      "text/plain": [
       "array([100, 200, 300, 400, 500, 600, 700, 800, 900])"
      ]
     },
     "execution_count": 16,
     "metadata": {},
     "output_type": "execute_result"
    }
   ],
   "source": [
    "np.arange(100,1000,100)"
   ]
  },
  {
   "cell_type": "code",
   "execution_count": 21,
   "metadata": {},
   "outputs": [],
   "source": [
    "#find error rate\n",
    "err_rate = []\n",
    "\n",
    "for i in np.arange(100,1000,100):\n",
    "    rf = RandomForestClassifier(n_estimators=i)\n",
    "    rf.fit(X_train,y_train)\n",
    "    pred_i = rf.predict(X_test)\n",
    "    err_rate.append(np.mean(pred_i != y_test))"
   ]
  },
  {
   "cell_type": "code",
   "execution_count": 27,
   "metadata": {},
   "outputs": [
    {
     "data": {
      "text/plain": [
       "[<matplotlib.lines.Line2D at 0x7f8fb20e8a50>]"
      ]
     },
     "execution_count": 27,
     "metadata": {},
     "output_type": "execute_result"
    },
    {
     "data": {
      "image/png": "[encoded data removed]",
      "text/plain": [
       "<Figure size 720x432 with 1 Axes>"
      ]
     },
     "metadata": {
      "needs_background": "light"
     },
     "output_type": "display_data"
    }
   ],
   "source": [
    "plt.figure(figsize=(10,6))\n",
    "plt.plot(np.arange(100,1000,100),err_rate,linestyle='dashed',marker='o',markerfacecolor='red')"
   ]
  },
  {
   "cell_type": "code",
   "execution_count": 23,
   "metadata": {},
   "outputs": [],
   "source": [
    "# So, we try on 600 estimators Let's go..\n",
    "perfect_model = RandomForestClassifier(n_estimators=600)\n",
    "perfect_model.fit(X_train,y_train)\n",
    "predict_labels = perfect_model.predict(X_test)"
   ]
  },
  {
   "cell_type": "code",
   "execution_count": 26,
   "metadata": {},
   "outputs": [
    {
     "name": "stdout",
     "output_type": "stream",
     "text": [
      "              precision    recall  f1-score   support\n",
      "\n",
      "           0       0.96      0.90      0.93       310\n",
      "           1       0.00      0.00      0.00        11\n",
      "           2       0.00      0.00      0.00         3\n",
      "           3       0.94      0.71      0.81        21\n",
      "           4       1.00      0.60      0.75         5\n",
      "           5       0.86      0.87      0.86      1224\n",
      "           6       1.00      0.29      0.44         7\n",
      "           7       0.50      1.00      0.67         1\n",
      "           8       0.00      0.00      0.00         1\n",
      "           9       1.00      1.00      1.00     13577\n",
      "          10       0.80      0.73      0.76       512\n",
      "          11       0.99      0.99      0.99     22193\n",
      "          12       0.00      0.00      0.00         1\n",
      "          13       0.00      0.00      0.00         1\n",
      "          14       0.75      0.57      0.65        70\n",
      "          15       1.00      0.99      0.99       954\n",
      "          16       0.00      0.00      0.00         4\n",
      "          17       1.00      0.98      0.99      1206\n",
      "          18       0.89      0.91      0.90       861\n",
      "          19       0.00      0.00      0.00         1\n",
      "          20       0.87      0.87      0.87       284\n",
      "          21       0.74      0.76      0.75       317\n",
      "          22       0.00      0.00      0.00         8\n",
      "\n",
      "    accuracy                           0.98     41572\n",
      "   macro avg       0.58      0.53      0.54     41572\n",
      "weighted avg       0.98      0.98      0.98     41572\n",
      "\n",
      "\n",
      "\n",
      "0.9789281246993169\n"
     ]
    },
    {
     "name": "stderr",
     "output_type": "stream",
     "text": [
      "/root/anaconda3/lib/python3.7/site-packages/sklearn/metrics/_classification.py:1272: UndefinedMetricWarning: Precision and F-score are ill-defined and being set to 0.0 in labels with no predicted samples. Use `zero_division` parameter to control this behavior.\n",
      "  _warn_prf(average, modifier, msg_start, len(result))\n"
     ]
    }
   ],
   "source": [
    "print(classification_report(y_test,predict_labels))\n",
    "print('\\n')\n",
    "print(accuracy_score(y_test,predict_labels))"
   ]
  },
  {
   "cell_type": "code",
   "execution_count": null,
   "metadata": {},
   "outputs": [],
   "source": []
  }
 ],
 "metadata": {
  "kernelspec": {
   "display_name": "Python 3",
   "language": "python",
   "name": "python3"
  },
  "language_info": {
   "codemirror_mode": {
    "name": "ipython",
    "version": 3
   },
   "file_extension": ".py",
   "mimetype": "text/x-python",
   "name": "python",
   "nbconvert_exporter": "python",
   "pygments_lexer": "ipython3",
   "version": "3.8.5"
  }
 },
 "nbformat": 4,
 "nbformat_minor": 2
}
